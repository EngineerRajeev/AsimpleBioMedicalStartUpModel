{
  "nbformat": 4,
  "nbformat_minor": 0,
  "metadata": {
    "colab": {
      "name": "Watch Me Build a Biomedical Startup",
      "version": "0.3.2",
      "provenance": [],
      "collapsed_sections": []
    },
    "kernelspec": {
      "name": "python3",
      "display_name": "Python 3"
    }
  },
  "cells": [
    {
      "cell_type": "markdown",
      "metadata": {
        "id": "VTbqWIRTfPIw",
        "colab_type": "text"
      },
      "source": [
        "## Overview\n",
        "\n",
        "Doctor Source is a biomedical app that lets you chat with an automated general practice doctor and get a quick diagnosis and treatment plan for whatever your ailment is. The App is built for both iOS and Android using the Flutter framework, and enables you to use your voice to communicate with the AI doctor. It's trained on lots of Reddit, HealthTap, and WebMD medical questions and answers, over 700K of them.\n",
        "\n",
        "![alt text](https://i.imgur.com/KcI2plh.png)\n",
        "\n",
        "3 Learning Objectives\n",
        "- How does BioBERT work\n",
        "- How to build a Flutter plugin (iOS + Android)\n",
        "- How to chain together multiple machine learning models for a robut result \n",
        "\n",
        "## Tools Used\n",
        "\n",
        "- App building (Flutter) \n",
        "![alt text](https://www.linkedin.com/media-proxy/ext?w=1200&h=675&hash=LyB%2BvTsJuygmJnDjh8TQL%2Bns1E8%3D&ora=1%2CaFBCTXdkRmpGL2lvQUFBPQ%2CxAVta5g-0R6plxVUzgUv5K_PrkC9q0RIUJDPBy-mWi2s_NafZ3bhf8HcZLSiolQVeyoClAwxeuytQDjjGo69LcLmY4Yx3A)\n",
        "- User Accounts (Firebase)\n",
        "![alt text](https://cdn-images-1.medium.com/max/1200/1*j3EaUjR6W6Cwoq8deqXdYA.png)\n",
        "- User Interface (ListView widget and custom TaskWidget)\n",
        "![alt text](https://i.stack.imgur.com/oKe8d.png)\n",
        "- Payments  (Stripe + RazorPay)\n",
        "![alt text](https://stripe.com/img/v3/payments/shared/social.png)\n",
        "![alt text](https://marketplace.appthemes.com/files/2017/05/app-razorpay-title-screenshot.png)\n",
        "- Voice Recognition plugin (custom channel, iOS Speech API, Android SpeechRecognizer)\n",
        "![alt text](https://i.stack.imgur.com/qAFtd.png)\n",
        "- AI Model(BioBERT , input question into retrained bioBERT to convert into an embedding. Input the embedding into a fully connected neural network, output an embedding for similarity lookup. Most similar Q&A's used by GPT-2 to generate an answer. )\n",
        "![alt text](https://cdn-images-1.medium.com/max/1600/1*q2OjkfFaUb8L_g6K6PGlWQ.png)\n",
        "#Opportunities in the biomedical space\n",
        "\n",
        "![alt text](https://cdn-images-1.medium.com/max/2400/1*GQMshUtBflpisXUUO4UvcQ.png)\n",
        "\n",
        "![alt text](https://3vmbig1fuckj48k8rq1n7zug-wpengine.netdna-ssl.com/wp-content/uploads/2018/09/BioTech-Innovation-Map-StartUs-Insights-900-506-min-900x506.png)\n",
        "\n",
        "More on this awesome website https://www.startus-insights.com/innovators-guide/biotech-innovation-map-reveals-emerging-technologies-startups/ \n",
        "\n",
        "## App design time! "
      ]
    },
    {
      "cell_type": "markdown",
      "metadata": {
        "id": "0kJNxSQQJhq2",
        "colab_type": "text"
      },
      "source": [
        "### Building Flutter app\n",
        "![alt text](https://www.cleveroad.com/images/article-previews/advantages-flutter.png)\n",
        "\n",
        "\n",
        "- Step 1 - Download Base code https://github.com/rxlabz/sytody\n",
        "- Step 2 -  Install and run base code\n",
        "- Step 3 - Analyze Base Code\n",
        "6 Class Files\n",
        "- Main -  Runs the top level widget (the app itself) in one line of code\n",
        "- Styody_app - Defines a navigation bar and a listview \n",
        "- Transcriptor - Implements Recognizor, transcription, and task creation in the listview\n",
        "- Recognizer - This is the interface that defines how the voice interaction functionality is communicated\n",
        "between Flutter's Dart Code and the native voice modules for each mobile platform (Java and Obj-C)\n",
        "- Task - Defines what each widget inside the list contains (text, color, alignments)\n",
        "- Languages - for different language string constants\n",
        "\n",
        "## Add Login/Signup"
      ]
    },
    {
      "cell_type": "markdown",
      "metadata": {
        "id": "tLz7ghZHWraB",
        "colab_type": "text"
      },
      "source": [
        "## How does the Flutter Voice Recognition Plugin work\n",
        "\n",
        "- Lol this guy made this same guy speech recognition plugin, props  https://pub.dev/packages/speech_recognition\n",
        "\n",
        "- We must open a channel to speak from Dart to the host platform (iOS or Android)\n",
        "- 2 Methods are available (MethodChannel Dart <> host function passing, and BasicMessageChannel (Dart <> Host data passing))\n",
        "- The channels allow for the passing of basic data between Dart <> Host (strings, maps, lists, numbers, etc.)\n",
        "\n",
        "To create a plugin available publically for anyone we do 3 steps\n",
        "1. \"flutter create  --org my.domain  --plugin plugin_name\"\n",
        "2. Write code for the generated Dart, Java, and ObjC platforms\n",
        "3. Run \"flutter pub publish\""
      ]
    },
    {
      "cell_type": "markdown",
      "metadata": {
        "id": "JDijmVLIggWd",
        "colab_type": "text"
      },
      "source": [
        "## BERT Explained\n",
        "\n",
        "First of all, when Google released BERT, it was like the ImageNet moment in computer vision, but this time for natural langugage processing. It was a big deal. Now everyone can use the weights file that bert learned after training on millions of words as a starting point for their specific NLP task, be it Q&A, sentence classfiication, sentence generation, sentiment analysis, etc. \n",
        "\n",
        "![alt text](https://cdn-images-1.medium.com/max/1600/0*bXDn2DeiusVVIv6S )\n",
        "\n",
        "-  “I accessed the bank account,”  BERT is bidirectional, takes into context 'i accesed' and 'account' when classifying the word bank\n",
        "- trained on unsupervised wikipedia data. lots of it. it built useful word representations. Knowledge. It's automated knowledge. \n",
        "\n",
        "I have a video on how it works, see this , now i'll rap\n",
        "\n",
        "https://www.youtube.com/watch?v=bDxFvr1gpSU\n",
        "\n",
        "## BioBERT Explained\n",
        "\n",
        "https://github.com/dmis-lab/biobert Good Job Korea University. \n",
        "\n",
        "\n",
        "- Published 5 months ago\n",
        "- It's a pre-trained biomedical language representation model. The full name is \"BiDirection Encoder Reprenseatitions froM Transformers for Biomedical Text Mining\". \n",
        "-BioBERT outperforms plain old BERT on 3 tasks; Biomedical Named Entity Recognition, Biomedical Relation Extraction, and Biomedical Question Answering\n",
        "- The pretrained weights are freely available here https://github.com/naver/biobert-pretrained \n",
        "- It was trained on 200K questions from PubMed, 270K from PubMed central, \n",
        "![alt text](https://cdn-images-1.medium.com/max/1200/1*AP4lIEW-THPNJwj4gLKTlA.png)\n",
        "\n",
        "## DOT Product Explained\n",
        "\n",
        "- Then I found this clever model pretrained with BioBERT. Which itself was pretrained on BERT. That's meta AF https://github.com/re-search/DocProduct \n",
        "- Dot Product can perfrom Q&A on biomedical data, a digital doctor! \n",
        "\n",
        "![alt text](https://camo.githubusercontent.com/b9ce3382ce50b3cf59ffc061aa9b268bfe27182d/68747470733a2f2f692e696d6775722e636f6d2f777a57743033392e706e67)\n",
        "\n",
        "![alt text](https://camo.githubusercontent.com/d8157a1ff5cbce444db4f8ff2e6fd4487aff2b12/68747470733a2f2f692e696d6775722e636f6d2f495243794b494c2e6a70673f31)\n",
        "\n",
        "## Integrating pretrained model into our flutter app\n",
        "\n",
        "It's saved as an H5 file in keras. We can use the TFLiteConverter to turn it into a tflite file \n",
        "\n",
        "\n",
        "```python \n",
        "from tensorflow.contrib import lite\n",
        "converter = lite.TFLiteConverter.from_keras_model_file( 'model.h5')\n",
        "tfmodel = converter.convert()\n",
        "open (\"model.tflite\" , \"wb\") .write(tfmodel)\n",
        "```\n",
        "Build it for Android and iOS specifically,  then call it from Dart via creating a messagechannel. \n",
        "https://medium.com/joytunes/deploying-a-tensorflow-model-to-android-69d04d1b0cba \n",
        "\n",
        "## How to Improve the App\n",
        "\n",
        "- Named Entity Recognition\n",
        "- All Voice\n",
        "- More animations in the interface\n",
        "- Continous training pipeline, keep getting more data from users, feed it back in\n",
        "- Robust edge case detection\n",
        "- Affiliate deals with drug companies \n"
      ]
    }
  ]
}